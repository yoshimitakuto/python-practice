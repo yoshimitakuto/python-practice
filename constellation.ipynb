{
 "cells": [
  {
   "cell_type": "code",
   "execution_count": 5,
   "metadata": {},
   "outputs": [
    {
     "name": "stdout",
     "output_type": "stream",
     "text": [
      "誕生日を入力してください\n"
     ]
    },
    {
     "data": {
      "application/vnd.jupyter.widget-view+json": {
       "model_id": "8c2fac7217824b03bbdc5d3b458cc67a",
       "version_major": 2,
       "version_minor": 0
      },
      "text/plain": [
       "DatePicker(value=None, step=1)"
      ]
     },
     "metadata": {},
     "output_type": "display_data"
    },
    {
     "data": {
      "application/vnd.jupyter.widget-view+json": {
       "model_id": "6383549d2e744409a61cdeaf81ae843b",
       "version_major": 2,
       "version_minor": 0
      },
      "text/plain": [
       "Button(description='占う', style=ButtonStyle())"
      ]
     },
     "metadata": {},
     "output_type": "display_data"
    },
    {
     "name": "stdout",
     "output_type": "stream",
     "text": [
      "今日のかに座の運勢は、超絶ラッキー！\n",
      "今日のかに座の運勢は、超絶ラッキー！\n",
      "今日のしし座の運勢は、超絶ラッキー！\n",
      "今日のおとめ座の運勢は、超絶ラッキー！\n",
      "今日のてんびん座の運勢は、超絶ラッキー！\n",
      "今日のやぎ座の運勢は、超絶ラッキー！\n"
     ]
    }
   ],
   "source": [
    "import random\n",
    "import ipywidgets as wid\n",
    "\n",
    "# ボタン押下処理\n",
    "def on_click_button(b):\n",
    "    birthvalue = birthdate.value\n",
    "    constella = calc_constellation(birthvalue)\n",
    "    print(f'今日の{constella}の運勢は、{result}')\n",
    "\n",
    "\n",
    "# 入力された誕生日と星座を判定する処理\n",
    "def calc_constellation(x):\n",
    "    constellation = {1:'やぎ座', 2:'みずがめ座', 3:'うお座', 4:'おひつじ座', 5:'おうし座', 6:'ふたご座',\n",
    "                     7:'かに座', 8:'しし座', 9:'おとめ座', 10:'てんびん座', 11:'さそり座', 12:'いて座'}\n",
    "    \n",
    "    if x.day > 22:\n",
    "        if x.month == 12:\n",
    "            return constellation[1]\n",
    "        else:\n",
    "            return constellation[x.month + 1]\n",
    "    else:\n",
    "        return constellation[x.month]\n",
    "    \n",
    "# 誕生日入力フォーム\n",
    "birthdate = wid.DatePicker()\n",
    "\n",
    "button = wid.Button(description = '占う')\n",
    "button.on_click(on_click_button)\n",
    "\n",
    "print('誕生日を入力してください')\n",
    "display(birthdate)\n",
    "display(button)\n",
    "\n",
    "\n",
    "# 結果の処理\n",
    "fortune = [\"超絶ラッキー！\", \"外にでランニングしよ\", \"飯食って寝た方がいいよ\", \"大人しくしときな\", \"超絶アンラッキー！\"]\n",
    "result = random.choice(fortune)"
   ]
  }
 ],
 "metadata": {
  "kernelspec": {
   "display_name": "Python 3",
   "language": "python",
   "name": "python3"
  },
  "language_info": {
   "codemirror_mode": {
    "name": "ipython",
    "version": 3
   },
   "file_extension": ".py",
   "mimetype": "text/x-python",
   "name": "python",
   "nbconvert_exporter": "python",
   "pygments_lexer": "ipython3",
   "version": "3.10.9"
  },
  "orig_nbformat": 4
 },
 "nbformat": 4,
 "nbformat_minor": 2
}
