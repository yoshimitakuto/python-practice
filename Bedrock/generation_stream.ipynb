{
 "cells": [
  {
   "cell_type": "code",
   "execution_count": 12,
   "metadata": {},
   "outputs": [],
   "source": [
    "import boto3, json\n",
    "\n",
    "bedrock_runtime = boto3.client(\n",
    "    service_name=\"bedrock-runtime\",\n",
    "    region_name=\"us-west-2\",\n",
    ")"
   ]
  },
  {
   "cell_type": "code",
   "execution_count": 13,
   "metadata": {},
   "outputs": [],
   "source": [
    "prompt = \"Please introduce 10 great tourist attractions in Japan.\""
   ]
  },
  {
   "cell_type": "code",
   "execution_count": 15,
   "metadata": {},
   "outputs": [
    {
     "name": "stdout",
     "output_type": "stream",
     "text": [
      "{'modelId': 'anthropic.claude-v1', 'contentType': 'application/json', 'accept': '*/*', 'body': {'prompt': '\\n\\nHuman: Please introduce 10 great tourist attractions in Japan.\\n\\nAssistant:', 'max_tokens_to_sample': 300, 'temperature': 0.5, 'top_k': 250, 'top_p': 1, 'stop_sequences': ['\\\\n\\\\nHuman:'], 'anthropic_version': 'bedrock-2023-05-31'}}\n"
     ]
    }
   ],
   "source": [
    "kwargs = {\n",
    "  \"modelId\": \"anthropic.claude-v1\",\n",
    "  \"contentType\": \"application/json\",\n",
    "  \"accept\": \"*/*\",\n",
    "  \"body\": {\n",
    "    \"prompt\": \"\\n\\nHuman: \"+ prompt +\"\\n\\nAssistant:\",\n",
    "    \"max_tokens_to_sample\": 300,\n",
    "    \"temperature\": 0.5,\n",
    "    \"top_k\": 250,\n",
    "    \"top_p\": 1,\n",
    "    \"stop_sequences\": [\n",
    "      \"\\\\n\\\\nHuman:\"\n",
    "    ],\n",
    "    \"anthropic_version\": \"bedrock-2023-05-31\"\n",
    "  }\n",
    "}\n",
    "\n",
    "print(kwargs)"
   ]
  },
  {
   "cell_type": "code",
   "execution_count": 17,
   "metadata": {},
   "outputs": [
    {
     "ename": "ParamValidationError",
     "evalue": "Parameter validation failed:\nInvalid type for parameter body, value: {'prompt': '\\n\\nHuman: Please introduce 10 great tourist attractions in Japan.\\n\\nAssistant:', 'max_tokens_to_sample': 300, 'temperature': 0.5, 'top_k': 250, 'top_p': 1, 'stop_sequences': ['\\\\n\\\\nHuman:'], 'anthropic_version': 'bedrock-2023-05-31'}, type: <class 'dict'>, valid types: <class 'bytes'>, <class 'bytearray'>, file-like object",
     "output_type": "error",
     "traceback": [
      "\u001b[0;31m---------------------------------------------------------------------------\u001b[0m",
      "\u001b[0;31mParamValidationError\u001b[0m                      Traceback (most recent call last)",
      "\u001b[1;32m/Users/yoshimitakuto/python-practice/Bedrock/generation_stream.ipynb セル 4\u001b[0m line \u001b[0;36m1\n\u001b[0;32m----> <a href='vscode-notebook-cell:/Users/yoshimitakuto/python-practice/Bedrock/generation_stream.ipynb#W3sZmlsZQ%3D%3D?line=0'>1</a>\u001b[0m res \u001b[39m=\u001b[39m bedrock_runtime\u001b[39m.\u001b[39;49minvoke_model_with_response_stream(\u001b[39m*\u001b[39;49m\u001b[39m*\u001b[39;49mkwargs)\n\u001b[1;32m      <a href='vscode-notebook-cell:/Users/yoshimitakuto/python-practice/Bedrock/generation_stream.ipynb#W3sZmlsZQ%3D%3D?line=2'>3</a>\u001b[0m stream \u001b[39m=\u001b[39m res\u001b[39m.\u001b[39mget(\u001b[39m'\u001b[39m\u001b[39mbody\u001b[39m\u001b[39m'\u001b[39m)\n\u001b[1;32m      <a href='vscode-notebook-cell:/Users/yoshimitakuto/python-practice/Bedrock/generation_stream.ipynb#W3sZmlsZQ%3D%3D?line=3'>4</a>\u001b[0m \u001b[39mif\u001b[39;00m stream:\n",
      "File \u001b[0;32m~/.pyenv/versions/3.10.9/lib/python3.10/site-packages/botocore/client.py:535\u001b[0m, in \u001b[0;36mClientCreator._create_api_method.<locals>._api_call\u001b[0;34m(self, *args, **kwargs)\u001b[0m\n\u001b[1;32m    531\u001b[0m     \u001b[39mraise\u001b[39;00m \u001b[39mTypeError\u001b[39;00m(\n\u001b[1;32m    532\u001b[0m         \u001b[39mf\u001b[39m\u001b[39m\"\u001b[39m\u001b[39m{\u001b[39;00mpy_operation_name\u001b[39m}\u001b[39;00m\u001b[39m() only accepts keyword arguments.\u001b[39m\u001b[39m\"\u001b[39m\n\u001b[1;32m    533\u001b[0m     )\n\u001b[1;32m    534\u001b[0m \u001b[39m# The \"self\" in this scope is referring to the BaseClient.\u001b[39;00m\n\u001b[0;32m--> 535\u001b[0m \u001b[39mreturn\u001b[39;00m \u001b[39mself\u001b[39;49m\u001b[39m.\u001b[39;49m_make_api_call(operation_name, kwargs)\n",
      "File \u001b[0;32m~/.pyenv/versions/3.10.9/lib/python3.10/site-packages/botocore/client.py:936\u001b[0m, in \u001b[0;36mBaseClient._make_api_call\u001b[0;34m(self, operation_name, api_params)\u001b[0m\n\u001b[1;32m    928\u001b[0m api_params \u001b[39m=\u001b[39m \u001b[39mself\u001b[39m\u001b[39m.\u001b[39m_emit_api_params(\n\u001b[1;32m    929\u001b[0m     api_params\u001b[39m=\u001b[39mapi_params,\n\u001b[1;32m    930\u001b[0m     operation_model\u001b[39m=\u001b[39moperation_model,\n\u001b[1;32m    931\u001b[0m     context\u001b[39m=\u001b[39mrequest_context,\n\u001b[1;32m    932\u001b[0m )\n\u001b[1;32m    933\u001b[0m endpoint_url, additional_headers \u001b[39m=\u001b[39m \u001b[39mself\u001b[39m\u001b[39m.\u001b[39m_resolve_endpoint_ruleset(\n\u001b[1;32m    934\u001b[0m     operation_model, api_params, request_context\n\u001b[1;32m    935\u001b[0m )\n\u001b[0;32m--> 936\u001b[0m request_dict \u001b[39m=\u001b[39m \u001b[39mself\u001b[39;49m\u001b[39m.\u001b[39;49m_convert_to_request_dict(\n\u001b[1;32m    937\u001b[0m     api_params\u001b[39m=\u001b[39;49mapi_params,\n\u001b[1;32m    938\u001b[0m     operation_model\u001b[39m=\u001b[39;49moperation_model,\n\u001b[1;32m    939\u001b[0m     endpoint_url\u001b[39m=\u001b[39;49mendpoint_url,\n\u001b[1;32m    940\u001b[0m     context\u001b[39m=\u001b[39;49mrequest_context,\n\u001b[1;32m    941\u001b[0m     headers\u001b[39m=\u001b[39;49madditional_headers,\n\u001b[1;32m    942\u001b[0m )\n\u001b[1;32m    943\u001b[0m resolve_checksum_context(request_dict, operation_model, api_params)\n\u001b[1;32m    945\u001b[0m service_id \u001b[39m=\u001b[39m \u001b[39mself\u001b[39m\u001b[39m.\u001b[39m_service_model\u001b[39m.\u001b[39mservice_id\u001b[39m.\u001b[39mhyphenize()\n",
      "File \u001b[0;32m~/.pyenv/versions/3.10.9/lib/python3.10/site-packages/botocore/client.py:1007\u001b[0m, in \u001b[0;36mBaseClient._convert_to_request_dict\u001b[0;34m(self, api_params, operation_model, endpoint_url, context, headers, set_user_agent_header)\u001b[0m\n\u001b[1;32m    998\u001b[0m \u001b[39mdef\u001b[39;00m \u001b[39m_convert_to_request_dict\u001b[39m(\n\u001b[1;32m    999\u001b[0m     \u001b[39mself\u001b[39m,\n\u001b[1;32m   1000\u001b[0m     api_params,\n\u001b[0;32m   (...)\u001b[0m\n\u001b[1;32m   1005\u001b[0m     set_user_agent_header\u001b[39m=\u001b[39m\u001b[39mTrue\u001b[39;00m,\n\u001b[1;32m   1006\u001b[0m ):\n\u001b[0;32m-> 1007\u001b[0m     request_dict \u001b[39m=\u001b[39m \u001b[39mself\u001b[39;49m\u001b[39m.\u001b[39;49m_serializer\u001b[39m.\u001b[39;49mserialize_to_request(\n\u001b[1;32m   1008\u001b[0m         api_params, operation_model\n\u001b[1;32m   1009\u001b[0m     )\n\u001b[1;32m   1010\u001b[0m     \u001b[39mif\u001b[39;00m \u001b[39mnot\u001b[39;00m \u001b[39mself\u001b[39m\u001b[39m.\u001b[39m_client_config\u001b[39m.\u001b[39minject_host_prefix:\n\u001b[1;32m   1011\u001b[0m         request_dict\u001b[39m.\u001b[39mpop(\u001b[39m'\u001b[39m\u001b[39mhost_prefix\u001b[39m\u001b[39m'\u001b[39m, \u001b[39mNone\u001b[39;00m)\n",
      "File \u001b[0;32m~/.pyenv/versions/3.10.9/lib/python3.10/site-packages/botocore/validate.py:381\u001b[0m, in \u001b[0;36mParamValidationDecorator.serialize_to_request\u001b[0;34m(self, parameters, operation_model)\u001b[0m\n\u001b[1;32m    377\u001b[0m     report \u001b[39m=\u001b[39m \u001b[39mself\u001b[39m\u001b[39m.\u001b[39m_param_validator\u001b[39m.\u001b[39mvalidate(\n\u001b[1;32m    378\u001b[0m         parameters, operation_model\u001b[39m.\u001b[39minput_shape\n\u001b[1;32m    379\u001b[0m     )\n\u001b[1;32m    380\u001b[0m     \u001b[39mif\u001b[39;00m report\u001b[39m.\u001b[39mhas_errors():\n\u001b[0;32m--> 381\u001b[0m         \u001b[39mraise\u001b[39;00m ParamValidationError(report\u001b[39m=\u001b[39mreport\u001b[39m.\u001b[39mgenerate_report())\n\u001b[1;32m    382\u001b[0m \u001b[39mreturn\u001b[39;00m \u001b[39mself\u001b[39m\u001b[39m.\u001b[39m_serializer\u001b[39m.\u001b[39mserialize_to_request(\n\u001b[1;32m    383\u001b[0m     parameters, operation_model\n\u001b[1;32m    384\u001b[0m )\n",
      "\u001b[0;31mParamValidationError\u001b[0m: Parameter validation failed:\nInvalid type for parameter body, value: {'prompt': '\\n\\nHuman: Please introduce 10 great tourist attractions in Japan.\\n\\nAssistant:', 'max_tokens_to_sample': 300, 'temperature': 0.5, 'top_k': 250, 'top_p': 1, 'stop_sequences': ['\\\\n\\\\nHuman:'], 'anthropic_version': 'bedrock-2023-05-31'}, type: <class 'dict'>, valid types: <class 'bytes'>, <class 'bytearray'>, file-like object"
     ]
    }
   ],
   "source": [
    "res = bedrock_runtime.invoke_model_with_response_stream(**kwargs)\n",
    "\n",
    "stream = res.get('body')\n",
    "if stream:\n",
    "    for event in stream:\n",
    "        chunk = event.get(\"chunk\")\n",
    "        if chunk:\n",
    "            print(json.loads(chunk.get('bytes')).get('completion'), end=\"\")"
   ]
  }
 ],
 "metadata": {
  "kernelspec": {
   "display_name": "Python 3",
   "language": "python",
   "name": "python3"
  },
  "language_info": {
   "codemirror_mode": {
    "name": "ipython",
    "version": 3
   },
   "file_extension": ".py",
   "mimetype": "text/x-python",
   "name": "python",
   "nbconvert_exporter": "python",
   "pygments_lexer": "ipython3",
   "version": "3.10.9"
  },
  "orig_nbformat": 4
 },
 "nbformat": 4,
 "nbformat_minor": 2
}
